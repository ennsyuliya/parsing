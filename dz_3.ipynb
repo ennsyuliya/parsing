{
 "cells": [
  {
   "attachments": {},
   "cell_type": "markdown",
   "metadata": {},
   "source": [
    "## Урок 3. Парсинг данных. HTML, Beautiful Soap\n",
    "\n",
    "1. Развернуть у себя на компьютере/виртуальной машине/хостинге MongoDB и реализовать функцию, которая будет добавлять только новые вакансии/продукты в вашу базу.\n",
    "\n",
    "2. Написать функцию, которая производит поиск и выводит на экран вакансии с заработной платой больше введённой суммы (необходимо анализировать оба поля зарплаты). Для тех, кто выполнил задание с Росконтролем - напишите запрос для поиска продуктов с рейтингом не ниже введенного или качеством не ниже введенного (то есть цифра вводится одна, а запрос проверяет оба поля)"
   ]
  },
  {
   "cell_type": "code",
   "execution_count": 1,
   "metadata": {},
   "outputs": [],
   "source": [
    "from pprint import pprint\n",
    "from bs4 import BeautifulSoup as bs\n",
    "import requests\n",
    "from time import sleep"
   ]
  },
  {
   "cell_type": "code",
   "execution_count": 2,
   "metadata": {},
   "outputs": [],
   "source": [
    "USER_AGENT = 'Mozilla/5.0 (Windows NT 10.0; Win64; x64) AppleWebKit/537.36 (KHTML, like Gecko) Chrome/104.0.0.0 Safari/537.36'\n",
    "\n",
    "URL_FIRST_PAGE_HH = 'https://spb.hh.ru/search/vacancy?area=88&search_field=name&search_field=company_name&search_field=description&text=python&no_magic=true&L_save_area=true&items_on_page=20'\n"
   ]
  },
  {
   "cell_type": "code",
   "execution_count": 3,
   "metadata": {},
   "outputs": [],
   "source": [
    "headers = {\n",
    "    'User-Agent': USER_AGENT,\n",
    "}"
   ]
  },
  {
   "cell_type": "code",
   "execution_count": 4,
   "metadata": {},
   "outputs": [],
   "source": [
    "def parse_hh(url_page, headers, result=[], index_page=1):\n",
    "    response = requests.get(url_page, headers=headers)\n",
    "    if response.status_code != 200:\n",
    "      print('Парсинг завершен')\n",
    "      return result\n",
    "    else:\n",
    "      print('Cтраница №%d, ссылка: %s'%(index_page, response.url))\n",
    "\n",
    "    dom = bs(response.content, 'html.parser')\n",
    "    vacancies = dom.find_all('div', {'class': 'vacancy-serp-item__layout'})\n",
    "    for vacancy in vacancies:\n",
    "      result.append(parse_vacancy_hh(vacancy))\n",
    "\n",
    "    link_next_page = dom.find('a', {'data-qa': 'pager-next'})\n",
    "    if link_next_page:\n",
    "      link_next_page =  'https://spb.hh.ru' + link_next_page['href']\n",
    "    else:\n",
    "      print('Парсинг завершен')\n",
    "      return result\n",
    "\n",
    "    result = parse_hh(link_next_page, headers, result, index_page+1)   \n",
    "    return result\n",
    "     \n",
    "def parse_vacancy_hh(dom_vacancy):\n",
    "  sleep(0.1)\n",
    "  vacancy_name = dom_vacancy.find('a').text\n",
    "\n",
    "  vacancy_salary = dom_vacancy.find('span', {'class', 'bloko-header-section-3'})\n",
    "  if vacancy_salary:\n",
    "    vacancy_salary = vacancy_salary.text\n",
    "    min_salary, max_salary, currency_salary = clean_salary(vacancy_salary)\n",
    "  else:\n",
    "    min_salary, max_salary, currency_salary = None, None, None\n",
    "\n",
    "  vacancy_link = dom_vacancy.find('a')['href']\n",
    "  \n",
    "  return {\n",
    "      'vacancy_name': vacancy_name,\n",
    "      'vacancy_salary': vacancy_salary,\n",
    "      'min_salary': min_salary,\n",
    "      'max_salary': max_salary,\n",
    "      'currency_salary': currency_salary,\n",
    "      'vacancy_link': vacancy_link,\n",
    "      'vacancy_source': 'hh.ru',\n",
    "  }\n",
    "\n",
    "def clean_salary(vacancy_salary_text, min_salary=None, max_salary=None, currency_salary=None):\n",
    "  list_salary = vacancy_salary_text.replace('\\u202f', '').split()\n",
    "  for i in range(len(list_salary) - 1):\n",
    "    if list_salary[i] == 'от':\n",
    "      min_salary = int(list_salary[i + 1])\n",
    "    elif list_salary[i] == 'до':\n",
    "      max_salary = int(list_salary[i + 1])\n",
    "    elif list_salary[i] == '–':\n",
    "      min_salary = int(list_salary[i - 1])\n",
    "      max_salary = int(list_salary[i + 1])\n",
    "  currency_salary = list_salary[-1]\n",
    "\n",
    "  return min_salary, max_salary, currency_salary"
   ]
  },
  {
   "cell_type": "code",
   "execution_count": 5,
   "metadata": {},
   "outputs": [
    {
     "name": "stdout",
     "output_type": "stream",
     "text": [
      "Cтраница №1, ссылка: https://spb.hh.ru/search/vacancy?area=88&search_field=name&search_field=company_name&search_field=description&text=python&no_magic=true&L_save_area=true&items_on_page=20\n",
      "Cтраница №2, ссылка: https://spb.hh.ru/search/vacancy?area=88&search_field=name&search_field=company_name&search_field=description&text=python&no_magic=true&L_save_area=true&items_on_page=20&page=1&hhtmFrom=vacancy_search_list\n",
      "Cтраница №3, ссылка: https://spb.hh.ru/search/vacancy?area=88&search_field=name&search_field=company_name&search_field=description&text=python&no_magic=true&L_save_area=true&items_on_page=20&page=2&hhtmFrom=vacancy_search_list\n",
      "Cтраница №4, ссылка: https://spb.hh.ru/search/vacancy?area=88&search_field=name&search_field=company_name&search_field=description&text=python&no_magic=true&L_save_area=true&items_on_page=20&page=3&hhtmFrom=vacancy_search_list\n",
      "Cтраница №5, ссылка: https://spb.hh.ru/search/vacancy?area=88&search_field=name&search_field=company_name&search_field=description&text=python&no_magic=true&L_save_area=true&items_on_page=20&page=4&hhtmFrom=vacancy_search_list\n",
      "Cтраница №6, ссылка: https://spb.hh.ru/search/vacancy?area=88&search_field=name&search_field=company_name&search_field=description&text=python&no_magic=true&L_save_area=true&items_on_page=20&page=5&hhtmFrom=vacancy_search_list\n",
      "Cтраница №7, ссылка: https://spb.hh.ru/search/vacancy?area=88&search_field=name&search_field=company_name&search_field=description&text=python&no_magic=true&L_save_area=true&items_on_page=20&page=6&hhtmFrom=vacancy_search_list\n",
      "Cтраница №8, ссылка: https://spb.hh.ru/search/vacancy?area=88&search_field=name&search_field=company_name&search_field=description&text=python&no_magic=true&L_save_area=true&items_on_page=20&page=7&hhtmFrom=vacancy_search_list\n",
      "Парсинг завершен\n"
     ]
    }
   ],
   "source": [
    "result = parse_hh(URL_FIRST_PAGE_HH, headers)"
   ]
  },
  {
   "attachments": {},
   "cell_type": "markdown",
   "metadata": {},
   "source": [
    "### Установим mongo сервер и клиент"
   ]
  },
  {
   "cell_type": "code",
   "execution_count": 6,
   "metadata": {},
   "outputs": [
    {
     "name": "stderr",
     "output_type": "stream",
     "text": [
      "\"apt\" �� ���� ����७��� ��� ���譥�\n",
      "��������, �ᯮ��塞�� �ணࠬ��� ��� ������ 䠩���.\n"
     ]
    }
   ],
   "source": [
    "!apt install mongodb > log"
   ]
  },
  {
   "cell_type": "code",
   "execution_count": 7,
   "metadata": {},
   "outputs": [
    {
     "name": "stderr",
     "output_type": "stream",
     "text": [
      "\"service\" �� ���� ����७��� ��� ���譥�\n",
      "��������, �ᯮ��塞�� �ணࠬ��� ��� ������ 䠩���.\n"
     ]
    }
   ],
   "source": [
    "!service mongodb start"
   ]
  },
  {
   "cell_type": "code",
   "execution_count": 8,
   "metadata": {},
   "outputs": [
    {
     "name": "stdout",
     "output_type": "stream",
     "text": [
      "Requirement already satisfied: pymongo in c:\\users\\enns\\anaconda3\\lib\\site-packages (4.3.3)\n",
      "Requirement already satisfied: dnspython<3.0.0,>=1.16.0 in c:\\users\\enns\\anaconda3\\lib\\site-packages (from pymongo) (2.2.1)\n"
     ]
    }
   ],
   "source": [
    "!pip install pymongo"
   ]
  },
  {
   "attachments": {},
   "cell_type": "markdown",
   "metadata": {},
   "source": [
    "### Запишем данные в базу"
   ]
  },
  {
   "cell_type": "code",
   "execution_count": 9,
   "metadata": {},
   "outputs": [],
   "source": [
    "from pymongo import MongoClient"
   ]
  },
  {
   "cell_type": "code",
   "execution_count": 10,
   "metadata": {},
   "outputs": [],
   "source": [
    "client = MongoClient()"
   ]
  },
  {
   "cell_type": "code",
   "execution_count": 11,
   "metadata": {},
   "outputs": [],
   "source": [
    "db = client.vacancies_python_hh"
   ]
  },
  {
   "cell_type": "code",
   "execution_count": 12,
   "metadata": {},
   "outputs": [],
   "source": [
    "collection_vacancies_hh_ru = db.hh_ru"
   ]
  },
  {
   "cell_type": "code",
   "execution_count": 13,
   "metadata": {},
   "outputs": [],
   "source": [
    "def cheak_and_save_vacancies_in_db(vacancies):\n",
    "  for vacancy in vacancies:\n",
    "    if not len(list(collection_vacancies_hh_ru.find({'vacancy_link': vacancy['vacancy_link']}))):\n",
    "      collection_vacancies_hh_ru.insert_one(vacancy)"
   ]
  },
  {
   "cell_type": "code",
   "execution_count": 14,
   "metadata": {},
   "outputs": [],
   "source": [
    "cheak_and_save_vacancies_in_db(result)"
   ]
  },
  {
   "cell_type": "code",
   "execution_count": 15,
   "metadata": {},
   "outputs": [],
   "source": [
    "result_find = list(collection_vacancies_hh_ru.find())"
   ]
  },
  {
   "cell_type": "code",
   "execution_count": 16,
   "metadata": {},
   "outputs": [
    {
     "data": {
      "text/plain": [
       "145"
      ]
     },
     "execution_count": 16,
     "metadata": {},
     "output_type": "execute_result"
    }
   ],
   "source": [
    "len(result_find)"
   ]
  }
 ],
 "metadata": {
  "kernelspec": {
   "display_name": "base",
   "language": "python",
   "name": "python3"
  },
  "language_info": {
   "codemirror_mode": {
    "name": "ipython",
    "version": 3
   },
   "file_extension": ".py",
   "mimetype": "text/x-python",
   "name": "python",
   "nbconvert_exporter": "python",
   "pygments_lexer": "ipython3",
   "version": "3.9.12 (main, Apr  4 2022, 05:22:27) [MSC v.1916 64 bit (AMD64)]"
  },
  "orig_nbformat": 4,
  "vscode": {
   "interpreter": {
    "hash": "452c276e810072ac0d070a9ecbd74ba181ab2f9a45b11b5d9d043df0d8e763c9"
   }
  }
 },
 "nbformat": 4,
 "nbformat_minor": 2
}

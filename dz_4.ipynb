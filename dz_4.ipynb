{
 "cells": [
  {
   "cell_type": "code",
   "execution_count": 66,
   "metadata": {},
   "outputs": [
    {
     "name": "stderr",
     "output_type": "stream",
     "text": [
      "ERROR: Could not find a version that satisfies the requirement pprint (from versions: none)\n",
      "ERROR: No matching distribution found for pprint\n"
     ]
    }
   ],
   "source": [
    "!pip install pprint"
   ]
  },
  {
   "cell_type": "code",
   "execution_count": 1,
   "metadata": {},
   "outputs": [],
   "source": [
    "from pprint import pprint\n",
    "from lxml import html\n",
    "import requests\n",
    "import time\n",
    "from pymongo import MongoClient"
   ]
  },
  {
   "cell_type": "code",
   "execution_count": 2,
   "metadata": {},
   "outputs": [],
   "source": [
    "header = {\n",
    "    'User-Agent': 'Mozilla/5.0 (X11; Linux x86_64) AppleWebKit/537.36 (KHTML, like Gecko) Chrome/92.0.4515.131 Safari/537.36'\n",
    "}"
   ]
  },
  {
   "cell_type": "code",
   "execution_count": 3,
   "metadata": {},
   "outputs": [],
   "source": [
    "\n",
    "# Функция для получения DOM сайта. В качестве аргумента принимает ссылку\n",
    "def get_dom(link):\n",
    "    header = {'user-agent':'Mozilla/5.0 (Macintosh; Intel Mac OS X 11_2_3) AppleWebKit/537.36 (KHTML, like Gecko) Chrome/89.0.4389.90 Safari/537.36'}\n",
    "    response = requests.get(link, headers=header)\n",
    "    dom = html.fromstring(response.text)\n",
    "    return dom\n",
    "\n",
    "# Функция для очистки списка и отображения первого элемента. В качестве аргумента принимает список\n",
    "def list_len(list):\n",
    "    try:\n",
    "        el = list[0].replace('\\xa0', ' ')\n",
    "        return el\n",
    "    except:\n",
    "        pass\n",
    "# Функция конструктор ссылок. В качестве аргумента принимает основную ссылку и сокращенную    \n",
    "def link_constr(main_link, link):\n",
    "    if 'https://' not in link:\n",
    "        link = main_link + link\n",
    "    else:\n",
    "        link\n",
    "    return link\n",
    "\n",
    "# Функция добавления документов в коллекции. В качестве аргументов принимает добавляемый словарь и коллекцию для добавления\n",
    "def add_collection(news_dict, collection):\n",
    "    for new in news_dict:\n",
    "        count = 0\n",
    "        if collection.count_documents({'title': new['title']}) == 0:\n",
    "            collection.insert_one(new)\n",
    "            count += 1\n",
    "    print(f'В коллекцию {collection.name} добавлено {count} документов. Всего документов в коллекции {collection.count_documents({})}')"
   ]
  },
  {
   "attachments": {},
   "cell_type": "markdown",
   "metadata": {},
   "source": [
    "#### mail"
   ]
  },
  {
   "cell_type": "code",
   "execution_count": 4,
   "metadata": {},
   "outputs": [
    {
     "data": {
      "text/plain": [
       "<Response [200]>"
      ]
     },
     "execution_count": 4,
     "metadata": {},
     "output_type": "execute_result"
    }
   ],
   "source": [
    "mail_url = 'https://news.mail.ru'\n",
    "dom_mail = get_dom(mail_url)\n",
    "\n",
    "response = requests.get(mail_url, headers = header)   \n",
    "response"
   ]
  },
  {
   "cell_type": "code",
   "execution_count": 5,
   "metadata": {},
   "outputs": [
    {
     "name": "stdout",
     "output_type": "stream",
     "text": [
      "{'date': '2023-01-12T07:42:27+03:00',\n",
      " 'link': 'https://news.mail.ru/politics/54622984/',\n",
      " 'source': '© РИА Новости',\n",
      " 'title': 'Постпредство России анонсировало заседание СБ ООН по Украине'}\n"
     ]
    }
   ],
   "source": [
    "section = dom_mail.xpath(\"//div[contains(@data-counter-id, '20268335')]//a[contains(@class, photo)]\")\n",
    "\n",
    "mail_news =[]\n",
    "\n",
    "for new in section:\n",
    "    mail_new = {}\n",
    "\n",
    "    link = list_len(new.xpath(\".//@href\"))\n",
    "    link = link_constr(mail_url, link)\n",
    "    \n",
    "    temp_dom = get_dom(link)\n",
    "    \n",
    "    title = list_len(temp_dom.xpath(\"//h1/text()\"))\n",
    "    date = list_len(temp_dom.xpath(\"//span[@class = 'note__text breadcrumbs__text js-ago']/@datetime\"))\n",
    "    source = list_len(temp_dom.xpath(\"//a[@class = 'link color_gray breadcrumbs__link']//span/text()\"))\n",
    "    \n",
    "    mail_new['source'] = source\n",
    "    mail_new['title'] = title\n",
    "    mail_new['link'] = link\n",
    "    mail_new['date'] = date   \n",
    "    \n",
    "    mail_news.append(mail_new)\n",
    "    \n",
    "pprint(mail_news[0])"
   ]
  },
  {
   "cell_type": "code",
   "execution_count": 6,
   "metadata": {},
   "outputs": [],
   "source": [
    "client = MongoClient('localhost', 27017)\n",
    "db = client['news_database']\n",
    "news_mail = db.news_mail\n"
   ]
  },
  {
   "cell_type": "code",
   "execution_count": 7,
   "metadata": {},
   "outputs": [
    {
     "name": "stdout",
     "output_type": "stream",
     "text": [
      "В коллекцию news_mail добавлено 0 документов. Всего документов в коллекции 11\n"
     ]
    }
   ],
   "source": [
    "add_collection(mail_news, news_mail)"
   ]
  }
 ],
 "metadata": {
  "kernelspec": {
   "display_name": "base",
   "language": "python",
   "name": "python3"
  },
  "language_info": {
   "codemirror_mode": {
    "name": "ipython",
    "version": 3
   },
   "file_extension": ".py",
   "mimetype": "text/x-python",
   "name": "python",
   "nbconvert_exporter": "python",
   "pygments_lexer": "ipython3",
   "version": "3.9.12 (main, Apr  4 2022, 05:22:27) [MSC v.1916 64 bit (AMD64)]"
  },
  "orig_nbformat": 4,
  "vscode": {
   "interpreter": {
    "hash": "452c276e810072ac0d070a9ecbd74ba181ab2f9a45b11b5d9d043df0d8e763c9"
   }
  }
 },
 "nbformat": 4,
 "nbformat_minor": 2
}
